{
 "cells": [
  {
   "cell_type": "markdown",
   "id": "3efa33fa",
   "metadata": {},
   "source": [
    "#Question 1: Tuple Basics\n",
    "Define a tuple containing the names of five countries. Access and print the third country from the tuple."
   ]
  },
  {
   "cell_type": "code",
   "execution_count": 3,
   "id": "ad24030a",
   "metadata": {},
   "outputs": [],
   "source": [
    "d=('India', 'Bangladesh', 'Bhutan', 'Thailand', 'Indonesia')"
   ]
  },
  {
   "cell_type": "code",
   "execution_count": 4,
   "id": "969e96a2",
   "metadata": {},
   "outputs": [
    {
     "data": {
      "text/plain": [
       "'Bhutan'"
      ]
     },
     "execution_count": 4,
     "metadata": {},
     "output_type": "execute_result"
    }
   ],
   "source": [
    "d[2]"
   ]
  },
  {
   "cell_type": "markdown",
   "id": "aff5b1cf",
   "metadata": {},
   "source": [
    "#Question 2: Unpacking Tuples\n",
    "Write a Python program that defines a tuple containing a student's name and their score in a test.\n",
    "Unpack the tuple to separate the name and score, and then print them.\n"
   ]
  },
  {
   "cell_type": "code",
   "execution_count": 62,
   "id": "2d278825",
   "metadata": {},
   "outputs": [],
   "source": [
    "marks=(45,48,47,43,40)\n"
   ]
  },
  {
   "cell_type": "code",
   "execution_count": 64,
   "id": "fa901a48",
   "metadata": {},
   "outputs": [
    {
     "data": {
      "text/plain": [
       "(45, 48, 47, 43, 40)"
      ]
     },
     "execution_count": 64,
     "metadata": {},
     "output_type": "execute_result"
    }
   ],
   "source": [
    "marks"
   ]
  },
  {
   "cell_type": "code",
   "execution_count": 65,
   "id": "26ad2ad3",
   "metadata": {},
   "outputs": [],
   "source": [
    "Sudip, Jamal, Kuldip, Sarita, Mumppy = marks"
   ]
  },
  {
   "cell_type": "code",
   "execution_count": 67,
   "id": "8323a6dd",
   "metadata": {},
   "outputs": [
    {
     "name": "stdout",
     "output_type": "stream",
     "text": [
      "Marks of Sudip is 45\n",
      "Marks of Jamal is 48\n",
      "Marks of Kuldip is 47\n",
      "Marks of Sarita is 43\n",
      "Marks of Mumppy is 40\n"
     ]
    }
   ],
   "source": [
    "print (\"Marks of Sudip is {}\".format(Sudip))\n",
    "print (\"Marks of Jamal is {}\".format(Jamal))\n",
    "print (\"Marks of Kuldip is {}\".format(Kuldip))\n",
    "print (\"Marks of Sarita is {}\".format(Sarita))\n",
    "print (\"Marks of Mumppy is {}\".format(Mumppy))"
   ]
  },
  {
   "cell_type": "markdown",
   "id": "689e19bc",
   "metadata": {},
   "source": []
  },
  {
   "cell_type": "markdown",
   "id": "3fcd10ad",
   "metadata": {},
   "source": [
    "#Question 3: Tuple Concatenation\n",
    "Write a Python program that takes two tuples as input and returns \n",
    "a new tuple containing the elements from both tuples.\n",
    "\n",
    "\n",
    "\n"
   ]
  },
  {
   "cell_type": "code",
   "execution_count": 68,
   "id": "c18e0969",
   "metadata": {},
   "outputs": [],
   "source": [
    "d=(1,2,3,4,5)"
   ]
  },
  {
   "cell_type": "code",
   "execution_count": 69,
   "id": "d6e551f1",
   "metadata": {},
   "outputs": [
    {
     "data": {
      "text/plain": [
       "(1, 2, 3, 4, 5)"
      ]
     },
     "execution_count": 69,
     "metadata": {},
     "output_type": "execute_result"
    }
   ],
   "source": [
    "d"
   ]
  },
  {
   "cell_type": "code",
   "execution_count": 70,
   "id": "da274d95",
   "metadata": {},
   "outputs": [],
   "source": [
    "s=(6,7,8,9,10)"
   ]
  },
  {
   "cell_type": "code",
   "execution_count": 71,
   "id": "576050c0",
   "metadata": {},
   "outputs": [
    {
     "data": {
      "text/plain": [
       "(6, 7, 8, 9, 10)"
      ]
     },
     "execution_count": 71,
     "metadata": {},
     "output_type": "execute_result"
    }
   ],
   "source": [
    "s"
   ]
  },
  {
   "cell_type": "code",
   "execution_count": 76,
   "id": "c4d8dedb",
   "metadata": {},
   "outputs": [],
   "source": [
    "r=d+s"
   ]
  },
  {
   "cell_type": "code",
   "execution_count": 77,
   "id": "8cfe2771",
   "metadata": {},
   "outputs": [
    {
     "data": {
      "text/plain": [
       "(1, 2, 3, 4, 5, 6, 7, 8, 9, 10)"
      ]
     },
     "execution_count": 77,
     "metadata": {},
     "output_type": "execute_result"
    }
   ],
   "source": [
    "r"
   ]
  },
  {
   "cell_type": "markdown",
   "id": "c0a20d1d",
   "metadata": {},
   "source": [
    "#Question 4: Immutable Nature of Tuples\n",
    "Explain the concept of immutability in tuples and provide an example to demonstrate it.\n"
   ]
  },
  {
   "cell_type": "code",
   "execution_count": 78,
   "id": "d104ba21",
   "metadata": {},
   "outputs": [],
   "source": [
    "a=(1,2,4,5)"
   ]
  },
  {
   "cell_type": "code",
   "execution_count": 79,
   "id": "208a8bbc",
   "metadata": {},
   "outputs": [
    {
     "data": {
      "text/plain": [
       "(1, 2, 4, 5)"
      ]
     },
     "execution_count": 79,
     "metadata": {},
     "output_type": "execute_result"
    }
   ],
   "source": [
    "a"
   ]
  },
  {
   "cell_type": "code",
   "execution_count": 83,
   "id": "15d9fea5",
   "metadata": {},
   "outputs": [
    {
     "data": {
      "text/plain": [
       "4"
      ]
     },
     "execution_count": 83,
     "metadata": {},
     "output_type": "execute_result"
    }
   ],
   "source": [
    "a[2]"
   ]
  },
  {
   "cell_type": "code",
   "execution_count": 80,
   "id": "a0fb9a43",
   "metadata": {},
   "outputs": [
    {
     "ename": "TypeError",
     "evalue": "'tuple' object does not support item assignment",
     "output_type": "error",
     "traceback": [
      "\u001b[1;31m---------------------------------------------------------------------------\u001b[0m",
      "\u001b[1;31mTypeError\u001b[0m                                 Traceback (most recent call last)",
      "Cell \u001b[1;32mIn[80], line 1\u001b[0m\n\u001b[1;32m----> 1\u001b[0m a[\u001b[38;5;241m2\u001b[39m]\u001b[38;5;241m=\u001b[39m\u001b[38;5;241m7\u001b[39m\n",
      "\u001b[1;31mTypeError\u001b[0m: 'tuple' object does not support item assignment"
     ]
    }
   ],
   "source": [
    "a[2]=7 #TypeError: 'tuple' object does not support item assignment"
   ]
  },
  {
   "cell_type": "markdown",
   "id": "69e4abb9",
   "metadata": {},
   "source": [
    "#Question 5: Returning Multiple Values\n",
    "Write a Python function that takes two numbers as input and\n",
    "returns a tuple containing their sum and product."
   ]
  },
  {
   "cell_type": "code",
   "execution_count": null,
   "id": "bb35d88a",
   "metadata": {},
   "outputs": [],
   "source": []
  }
 ],
 "metadata": {
  "kernelspec": {
   "display_name": "Python 3 (ipykernel)",
   "language": "python",
   "name": "python3"
  },
  "language_info": {
   "codemirror_mode": {
    "name": "ipython",
    "version": 3
   },
   "file_extension": ".py",
   "mimetype": "text/x-python",
   "name": "python",
   "nbconvert_exporter": "python",
   "pygments_lexer": "ipython3",
   "version": "3.11.3"
  }
 },
 "nbformat": 4,
 "nbformat_minor": 5
}
