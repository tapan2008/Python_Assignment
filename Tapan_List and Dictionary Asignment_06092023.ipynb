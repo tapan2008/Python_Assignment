{
 "cells": [
  {
   "cell_type": "markdown",
   "id": "7e117872",
   "metadata": {},
   "source": [
    "Q1.Write a Python function that takes a list of numbers as input and\n",
    "returns the maximum and minimum values in the list.\n"
   ]
  },
  {
   "cell_type": "code",
   "execution_count": 43,
   "id": "bdfd0345",
   "metadata": {},
   "outputs": [],
   "source": [
    "d=[111,101,200,321,450,55,600,200]"
   ]
  },
  {
   "cell_type": "code",
   "execution_count": 44,
   "id": "85c74202",
   "metadata": {},
   "outputs": [
    {
     "data": {
      "text/plain": [
       "[111, 101, 200, 321, 450, 55, 600, 200]"
      ]
     },
     "execution_count": 44,
     "metadata": {},
     "output_type": "execute_result"
    }
   ],
   "source": [
    "d"
   ]
  },
  {
   "cell_type": "code",
   "execution_count": 45,
   "id": "e48e3c43",
   "metadata": {},
   "outputs": [
    {
     "name": "stdout",
     "output_type": "stream",
     "text": [
      "55\n",
      "600\n"
     ]
    }
   ],
   "source": [
    "max=d[0]\n",
    "min=d[0]\n",
    "for i in range (len(d)):\n",
    "    if d[i]>max:\n",
    "        max=d[i]\n",
    "    elif d[i]<min:\n",
    "        min=d[i]\n",
    "print(min)\n",
    "print(max)\n",
    "        \n",
    "    "
   ]
  },
  {
   "cell_type": "markdown",
   "id": "7bd5eef8",
   "metadata": {},
   "source": [
    "Question 2: List Comprehension\n",
    "Write a Python program that takes a list of numbers and \n",
    "returns a new list containing only the even numbers from the original list.\n"
   ]
  },
  {
   "cell_type": "code",
   "execution_count": 46,
   "id": "20e8de0e",
   "metadata": {},
   "outputs": [
    {
     "data": {
      "text/plain": [
       "[111, 101, 200, 321, 450, 55, 600, 200]"
      ]
     },
     "execution_count": 46,
     "metadata": {},
     "output_type": "execute_result"
    }
   ],
   "source": [
    "d"
   ]
  },
  {
   "cell_type": "code",
   "execution_count": 47,
   "id": "fb29d629",
   "metadata": {},
   "outputs": [
    {
     "name": "stdout",
     "output_type": "stream",
     "text": [
      "200\n",
      "450\n",
      "600\n",
      "200\n"
     ]
    }
   ],
   "source": [
    "for i in d:\n",
    "    if i%2==0:\n",
    "        print(i)\n",
    "    "
   ]
  },
  {
   "cell_type": "code",
   "execution_count": 48,
   "id": "0ee8b4e6",
   "metadata": {},
   "outputs": [
    {
     "data": {
      "text/plain": [
       "[200, 450, 600, 200]"
      ]
     },
     "execution_count": 48,
     "metadata": {},
     "output_type": "execute_result"
    }
   ],
   "source": [
    "[i for i in d if i%2==0]"
   ]
  },
  {
   "cell_type": "markdown",
   "id": "bea4b26a",
   "metadata": {},
   "source": [
    "Question 3: List Reversal\n",
    "Write a Python function that takes a list as \n",
    "input and returns a new list with the elements reversed.\n"
   ]
  },
  {
   "cell_type": "code",
   "execution_count": 49,
   "id": "8c2b7179",
   "metadata": {},
   "outputs": [
    {
     "data": {
      "text/plain": [
       "[111, 101, 200, 321, 450, 55, 600, 200]"
      ]
     },
     "execution_count": 49,
     "metadata": {},
     "output_type": "execute_result"
    }
   ],
   "source": [
    "d"
   ]
  },
  {
   "cell_type": "code",
   "execution_count": 50,
   "id": "b29cdfee",
   "metadata": {},
   "outputs": [],
   "source": [
    "s=d[::-1]\n"
   ]
  },
  {
   "cell_type": "code",
   "execution_count": 51,
   "id": "6d3eb573",
   "metadata": {},
   "outputs": [
    {
     "data": {
      "text/plain": [
       "[200, 600, 55, 450, 321, 200, 101, 111]"
      ]
     },
     "execution_count": 51,
     "metadata": {},
     "output_type": "execute_result"
    }
   ],
   "source": [
    "s"
   ]
  },
  {
   "cell_type": "markdown",
   "id": "a7f31249",
   "metadata": {},
   "source": [
    "Question 4: Removing Duplicates\n",
    "Write a Python function that takes a list as input and\n",
    "returns a new list with all the duplicates removed.\n"
   ]
  },
  {
   "cell_type": "code",
   "execution_count": 52,
   "id": "2d2ed945",
   "metadata": {},
   "outputs": [
    {
     "data": {
      "text/plain": [
       "[111, 101, 200, 321, 450, 55, 600, 200]"
      ]
     },
     "execution_count": 52,
     "metadata": {},
     "output_type": "execute_result"
    }
   ],
   "source": [
    "d"
   ]
  },
  {
   "cell_type": "code",
   "execution_count": 53,
   "id": "9a8899c1",
   "metadata": {},
   "outputs": [],
   "source": [
    "t= set(d)"
   ]
  },
  {
   "cell_type": "code",
   "execution_count": 54,
   "id": "be983b6a",
   "metadata": {},
   "outputs": [
    {
     "data": {
      "text/plain": [
       "{55, 101, 111, 200, 321, 450, 600}"
      ]
     },
     "execution_count": 54,
     "metadata": {},
     "output_type": "execute_result"
    }
   ],
   "source": [
    "t"
   ]
  },
  {
   "cell_type": "code",
   "execution_count": 57,
   "id": "125f0c09",
   "metadata": {},
   "outputs": [],
   "source": [
    "d=list(t)"
   ]
  },
  {
   "cell_type": "code",
   "execution_count": 58,
   "id": "0ea816e3",
   "metadata": {},
   "outputs": [
    {
     "data": {
      "text/plain": [
       "[321, 450, 101, 200, 111, 55, 600]"
      ]
     },
     "execution_count": 58,
     "metadata": {},
     "output_type": "execute_result"
    }
   ],
   "source": [
    "d"
   ]
  },
  {
   "cell_type": "markdown",
   "id": "93602abc",
   "metadata": {},
   "source": [
    "Question 1: Dictionary Basics\n",
    "\n",
    "Create an empty dictionary called my_dict.\n",
    "Add the key-value pairs: \"name\" with the value \"Alice\", \"age\" with the value 25, and \"city\" with the value \"New York\" to my_dict.\n",
    "Print the value associated with the key \"age\".\n",
    "Update the value of the \"age\" key to 26.\n",
    "Remove the key \"city\" from the dictionary.Check if the key \"name\" exists in the dictionary.\n"
   ]
  },
  {
   "cell_type": "code",
   "execution_count": 63,
   "id": "2a10df7b",
   "metadata": {},
   "outputs": [],
   "source": [
    "my_dict= {}"
   ]
  },
  {
   "cell_type": "code",
   "execution_count": 64,
   "id": "162cd75c",
   "metadata": {},
   "outputs": [
    {
     "data": {
      "text/plain": [
       "dict"
      ]
     },
     "execution_count": 64,
     "metadata": {},
     "output_type": "execute_result"
    }
   ],
   "source": [
    "type(my_dict)"
   ]
  },
  {
   "cell_type": "code",
   "execution_count": 66,
   "id": "d40c53df",
   "metadata": {},
   "outputs": [],
   "source": [
    "s={'name':'Alice', 'age':25, 'city':'New York'}"
   ]
  },
  {
   "cell_type": "code",
   "execution_count": 67,
   "id": "69d42510",
   "metadata": {},
   "outputs": [],
   "source": [
    "my_dict=s"
   ]
  },
  {
   "cell_type": "code",
   "execution_count": 68,
   "id": "3960558a",
   "metadata": {},
   "outputs": [
    {
     "data": {
      "text/plain": [
       "{'name': 'Alice', 'age': 25, 'city': 'New York'}"
      ]
     },
     "execution_count": 68,
     "metadata": {},
     "output_type": "execute_result"
    }
   ],
   "source": [
    "my_dict"
   ]
  },
  {
   "cell_type": "code",
   "execution_count": 71,
   "id": "b77d9c46",
   "metadata": {},
   "outputs": [],
   "source": [
    "my_dict[\"age\"]=26\n"
   ]
  },
  {
   "cell_type": "code",
   "execution_count": 72,
   "id": "92cb6b6e",
   "metadata": {},
   "outputs": [
    {
     "data": {
      "text/plain": [
       "{'name': 'Alice', 'age': 26, 'city': 'New York'}"
      ]
     },
     "execution_count": 72,
     "metadata": {},
     "output_type": "execute_result"
    }
   ],
   "source": [
    "my_dict"
   ]
  },
  {
   "cell_type": "code",
   "execution_count": 81,
   "id": "e10da91d",
   "metadata": {},
   "outputs": [
    {
     "data": {
      "text/plain": [
       "'New York'"
      ]
     },
     "execution_count": 81,
     "metadata": {},
     "output_type": "execute_result"
    }
   ],
   "source": [
    "my_dict.pop('city')"
   ]
  },
  {
   "cell_type": "code",
   "execution_count": 82,
   "id": "7907ec04",
   "metadata": {},
   "outputs": [
    {
     "data": {
      "text/plain": [
       "{'name': 'Alice', 'age': 26}"
      ]
     },
     "execution_count": 82,
     "metadata": {},
     "output_type": "execute_result"
    }
   ],
   "source": [
    "my_dict"
   ]
  },
  {
   "cell_type": "code",
   "execution_count": 83,
   "id": "fd323697",
   "metadata": {},
   "outputs": [
    {
     "data": {
      "text/plain": [
       "'Alice'"
      ]
     },
     "execution_count": 83,
     "metadata": {},
     "output_type": "execute_result"
    }
   ],
   "source": [
    "my_dict.get(\"name\")"
   ]
  },
  {
   "cell_type": "markdown",
   "id": "551afa2e",
   "metadata": {},
   "source": [
    "Question 2: Dictionary Manipulation\n",
    "\n",
    "Create two dictionaries: dict1 with keys \"a\", \"b\", and \"c\" mapping to values 1, 2, and 3, and\n",
    "dict2 with keys \"b\", \"c\", and \"d\" mapping to values 4, 5, and 6.\n",
    "Merge dict2 into dict1 to update the values of common keys, and add the missing keys.\n",
    "Calculate the sum of all values in the merged dictionary.\n"
   ]
  },
  {
   "cell_type": "code",
   "execution_count": 57,
   "id": "735525bb",
   "metadata": {},
   "outputs": [],
   "source": [
    "d1= {\"a\":1,\"b\":2,\"c\":3}"
   ]
  },
  {
   "cell_type": "code",
   "execution_count": 58,
   "id": "640601b6",
   "metadata": {},
   "outputs": [
    {
     "data": {
      "text/plain": [
       "{'a': 1, 'b': 2, 'c': 3}"
      ]
     },
     "execution_count": 58,
     "metadata": {},
     "output_type": "execute_result"
    }
   ],
   "source": [
    "d1"
   ]
  },
  {
   "cell_type": "code",
   "execution_count": 59,
   "id": "dd48cd30",
   "metadata": {},
   "outputs": [],
   "source": [
    "d2= {\"b\":4,\"c\":5,\"d\":6}"
   ]
  },
  {
   "cell_type": "code",
   "execution_count": 60,
   "id": "6bc3033f",
   "metadata": {},
   "outputs": [
    {
     "data": {
      "text/plain": [
       "{'b': 4, 'c': 5, 'd': 6}"
      ]
     },
     "execution_count": 60,
     "metadata": {},
     "output_type": "execute_result"
    }
   ],
   "source": [
    "d2"
   ]
  },
  {
   "cell_type": "raw",
   "id": "ece08835",
   "metadata": {},
   "source": [
    "d3 = {**d1,**d2}\n",
    "print(d3)"
   ]
  },
  {
   "cell_type": "code",
   "execution_count": 63,
   "id": "211c47d3",
   "metadata": {},
   "outputs": [
    {
     "ename": "NameError",
     "evalue": "name 'd3' is not defined",
     "output_type": "error",
     "traceback": [
      "\u001b[1;31m---------------------------------------------------------------------------\u001b[0m",
      "\u001b[1;31mNameError\u001b[0m                                 Traceback (most recent call last)",
      "Cell \u001b[1;32mIn[63], line 1\u001b[0m\n\u001b[1;32m----> 1\u001b[0m d3\n",
      "\u001b[1;31mNameError\u001b[0m: name 'd3' is not defined"
     ]
    }
   ],
   "source": [
    "d3"
   ]
  },
  {
   "cell_type": "markdown",
   "id": "e3989de2",
   "metadata": {},
   "source": [
    "Question 3: Dictionary Iteration\n",
    "\n",
    "Create a dictionary with at least 5 key-value pairs of your choice.\n",
    "Write a loop to iterate through the dictionary and print each key and its corresponding value.\n"
   ]
  },
  {
   "cell_type": "code",
   "execution_count": 64,
   "id": "ef401bce",
   "metadata": {},
   "outputs": [],
   "source": [
    "d4={\"a\":1,\"b\":2,\"c\":3,\"f\":5, \"g\":6}"
   ]
  },
  {
   "cell_type": "code",
   "execution_count": 65,
   "id": "4d22d91e",
   "metadata": {},
   "outputs": [
    {
     "data": {
      "text/plain": [
       "{'a': 1, 'b': 2, 'c': 3, 'f': 5, 'g': 6}"
      ]
     },
     "execution_count": 65,
     "metadata": {},
     "output_type": "execute_result"
    }
   ],
   "source": [
    "d4"
   ]
  },
  {
   "cell_type": "code",
   "execution_count": 71,
   "id": "a4dc163b",
   "metadata": {},
   "outputs": [
    {
     "name": "stdout",
     "output_type": "stream",
     "text": [
      "a 1\n",
      "b 2\n",
      "c 3\n",
      "f 5\n",
      "g 6\n"
     ]
    }
   ],
   "source": [
    "for k,v in d4.items():\n",
    "    print(k,v)\n",
    "    \n",
    "    "
   ]
  },
  {
   "cell_type": "code",
   "execution_count": null,
   "id": "39d20994",
   "metadata": {},
   "outputs": [],
   "source": []
  }
 ],
 "metadata": {
  "kernelspec": {
   "display_name": "Python 3 (ipykernel)",
   "language": "python",
   "name": "python3"
  },
  "language_info": {
   "codemirror_mode": {
    "name": "ipython",
    "version": 3
   },
   "file_extension": ".py",
   "mimetype": "text/x-python",
   "name": "python",
   "nbconvert_exporter": "python",
   "pygments_lexer": "ipython3",
   "version": "3.11.4"
  }
 },
 "nbformat": 4,
 "nbformat_minor": 5
}
