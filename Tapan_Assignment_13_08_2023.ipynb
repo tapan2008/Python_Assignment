{
 "cells": [
  {
   "cell_type": "code",
   "execution_count": null,
   "id": "7700cf36",
   "metadata": {},
   "outputs": [],
   "source": []
  },
  {
   "cell_type": "code",
   "execution_count": null,
   "id": "ef3ee7c1",
   "metadata": {},
   "outputs": [],
   "source": [
    "#A.Question 1: Counting Odd Numbers:\n",
    "\n",
    "Write a program that continuously takes input from the user until they enter a negative number. The program should then print the count of all the odd numbers entered."
   ]
  },
  {
   "cell_type": "code",
   "execution_count": 3,
   "id": "84a07283",
   "metadata": {},
   "outputs": [
    {
     "name": "stdout",
     "output_type": "stream",
     "text": [
      "11\n"
     ]
    }
   ],
   "source": [
    "num=int(input())"
   ]
  },
  {
   "cell_type": "code",
   "execution_count": 4,
   "id": "b55d6614",
   "metadata": {},
   "outputs": [
    {
     "name": "stdout",
     "output_type": "stream",
     "text": [
      "1\n",
      "3\n",
      "5\n",
      "7\n",
      "9\n",
      "11\n",
      "Count of odd number is 36\n"
     ]
    }
   ],
   "source": [
    "for i in range (1,num+1):\n",
    "    if i%2!=0:\n",
    "        print(i)\n",
    "    if num<=0:\n",
    "        break\n",
    "        \n",
    "sum=0\n",
    "for i in range (1, num+1, 2):\n",
    "    sum+=i\n",
    "print(\"Count of odd number is {}\".format(sum))\n",
    "  \n",
    "    \n",
    "    \n",
    "    "
   ]
  },
  {
   "cell_type": "code",
   "execution_count": null,
   "id": "1f540675",
   "metadata": {},
   "outputs": [],
   "source": [
    "#A.Question 2: Guessing Game:\n",
    "            \n",
    "Create a guessing game where the computer generates a random number between 1 and 100, and the player has to guess it. The game should provide feedback on whether the guess is too high or too low, and it should continue until the player guesses the correct number.\n"
   ]
  },
  {
   "cell_type": "code",
   "execution_count": 5,
   "id": "ffc6ed81",
   "metadata": {},
   "outputs": [
    {
     "name": "stdout",
     "output_type": "stream",
     "text": [
      "Your number : 90\n",
      "The Lucky number is 82\n",
      "Your guess is too high\n"
     ]
    }
   ],
   "source": [
    "import random\n",
    "com_number = random.randrange(1,100)\n",
    "Your_number = int(input(\"Your number : \"))\n",
    "if Your_number > com_number:\n",
    "    print(\"The Lucky number is\",com_number)\n",
    "    print(\"Your guess is too high\")\n",
    "elif Your_number < com_number:\n",
    "    print(\"The Lucky number is\",com_number)\n",
    "    print(\"Your guess is too low\")\n",
    "else:\n",
    "    print(\"The com number is\",com_number)\n",
    "    print(\"Hurreyyyyy you Won \")"
   ]
  },
  {
   "cell_type": "code",
   "execution_count": null,
   "id": "acb044fa",
   "metadata": {},
   "outputs": [],
   "source": []
  },
  {
   "cell_type": "code",
   "execution_count": null,
   "id": "ddfd994a",
   "metadata": {},
   "outputs": [],
   "source": [
    "# A.Question 3: Password Validation\n",
    "Write a program that repeatedly asks the user for a password. The program should keep asking until the user enters a password that meets the following criteria:\n",
    "\n",
    "c\n",
    "Contains at least one uppercase letter\n",
    "Contains at least one lowercase letter\n",
    "Contains at least one digit"
   ]
  },
  {
   "cell_type": "code",
   "execution_count": null,
   "id": "049babc7",
   "metadata": {},
   "outputs": [],
   "source": []
  },
  {
   "cell_type": "code",
   "execution_count": null,
   "id": "689cefe5",
   "metadata": {},
   "outputs": [],
   "source": []
  },
  {
   "cell_type": "code",
   "execution_count": null,
   "id": "54377820",
   "metadata": {},
   "outputs": [],
   "source": [
    "# B.Question 1: Grade Classifier \n",
    "\n",
    "Write a program that takes a student's numerical grade as input and prints their corresponding letter grade according to the following scale:\n",
    "\n",
    "90 or above: A\n",
    "80-89: B\n",
    "70-79: C\n",
    "60-69: D\n",
    "Below 60: F\n"
   ]
  },
  {
   "cell_type": "code",
   "execution_count": 69,
   "id": "ca1f596f",
   "metadata": {},
   "outputs": [
    {
     "name": "stdout",
     "output_type": "stream",
     "text": [
      "50\n"
     ]
    }
   ],
   "source": [
    "num=int(input())"
   ]
  },
  {
   "cell_type": "code",
   "execution_count": 70,
   "id": "61091a12",
   "metadata": {},
   "outputs": [
    {
     "name": "stdout",
     "output_type": "stream",
     "text": [
      "FAIL\n"
     ]
    }
   ],
   "source": [
    "if num>=90:\n",
    "    print(\"Grade A\")\n",
    "elif num>=80 and num<=90:\n",
    "    print(\"Grade B\")\n",
    "elif num>=70 and num<=80:\n",
    "    print(\"Grade C\")\n",
    "elif num>=60 and num<=70:\n",
    "    print(\"Grade D\")\n",
    "else:\n",
    "    print(\"FAIL\")"
   ]
  },
  {
   "cell_type": "code",
   "execution_count": null,
   "id": "0157e20c",
   "metadata": {},
   "outputs": [],
   "source": [
    "# B.Question 2: Even or Odd\n",
    "Write a program that takes an integer as input and determines whether it is even or odd."
   ]
  },
  {
   "cell_type": "code",
   "execution_count": 81,
   "id": "f8f19fe8",
   "metadata": {},
   "outputs": [
    {
     "name": "stdout",
     "output_type": "stream",
     "text": [
      "1\n"
     ]
    }
   ],
   "source": [
    "num=int(input())"
   ]
  },
  {
   "cell_type": "code",
   "execution_count": 82,
   "id": "044585dd",
   "metadata": {},
   "outputs": [
    {
     "name": "stdout",
     "output_type": "stream",
     "text": [
      "the number is odd number\n"
     ]
    }
   ],
   "source": [
    "for i in range (1,num):\n",
    "    if num%2==0:\n",
    "        print(\"the number is even number\")\n",
    "        break\n",
    "else:\n",
    "    print(\"the number is odd number\")"
   ]
  },
  {
   "cell_type": "code",
   "execution_count": null,
   "id": "b03f88f3",
   "metadata": {},
   "outputs": [],
   "source": [
    "# B.Question 3: Leap Year Checker\n",
    "Write a program that checks if a given year is a leap year. A leap year is either divisible by 4 but not by 100, or divisible by 400.\n"
   ]
  },
  {
   "cell_type": "code",
   "execution_count": 8,
   "id": "45eafd6c",
   "metadata": {},
   "outputs": [
    {
     "name": "stdout",
     "output_type": "stream",
     "text": [
      "enter the year: 2024\n"
     ]
    }
   ],
   "source": [
    "year=int(input(\"enter the year: \"))"
   ]
  },
  {
   "cell_type": "code",
   "execution_count": 9,
   "id": "37776073",
   "metadata": {},
   "outputs": [
    {
     "name": "stdout",
     "output_type": "stream",
     "text": [
      "This is  a laep year\n"
     ]
    }
   ],
   "source": [
    "for i in range (1, year):\n",
    "    if year%4!=0 or year%100==0 or year%400==0:\n",
    "        print(\"This is not a laep year\")\n",
    "        break\n",
    "          \n",
    "    \n",
    " \n",
    "    else:\n",
    "        print(\"This is  a laep year\")\n",
    "        break\n",
    "    "
   ]
  },
  {
   "cell_type": "code",
   "execution_count": null,
   "id": "05ba4cfa",
   "metadata": {},
   "outputs": [],
   "source": [
    "# B.Question 4: Positive, Negative, or Zero\n",
    "Write a program that takes a number as input and prints whether it is positive, negative, or zero.\n"
   ]
  },
  {
   "cell_type": "code",
   "execution_count": 46,
   "id": "a480d346",
   "metadata": {},
   "outputs": [
    {
     "name": "stdout",
     "output_type": "stream",
     "text": [
      "Enter a number: 0\n"
     ]
    }
   ],
   "source": [
    "num=int(input(\"Enter a number: \"))"
   ]
  },
  {
   "cell_type": "code",
   "execution_count": 47,
   "id": "14dd5c42",
   "metadata": {},
   "outputs": [
    {
     "name": "stdout",
     "output_type": "stream",
     "text": [
      "Zero\n"
     ]
    }
   ],
   "source": [
    " \n",
    "while True:\n",
    "    if num>=1:\n",
    "        print(\"positive number\")\n",
    "        break\n",
    "    if num<=-1:\n",
    "        print(\"negetive\")\n",
    "        break\n",
    "        \n",
    "    else:\n",
    "        print(\"Zero\")\n",
    "        break\n",
    "        \n",
    "     \n",
    "   "
   ]
  },
  {
   "cell_type": "code",
   "execution_count": null,
   "id": "348d68fe",
   "metadata": {},
   "outputs": [],
   "source": [
    "# B.Question 5: Triangle Type\n",
    "Write a program that takes the lengths of three sides of a triangle as input and determines whether it's an equilateral, isosceles, or scalene triangle.\n"
   ]
  },
  {
   "cell_type": "code",
   "execution_count": 12,
   "id": "a2078523",
   "metadata": {},
   "outputs": [
    {
     "name": "stdout",
     "output_type": "stream",
     "text": [
      "Enter the number a:- 10\n",
      "Enter the number b:-20\n",
      "Enter the number c:-30\n"
     ]
    }
   ],
   "source": [
    "a = int(input(\"Enter the number a:- \"))\n",
    "b = int(input(\"Enter the number b:-\"))\n",
    "c = int(input(\"Enter the number c:-\"))\n"
   ]
  },
  {
   "cell_type": "code",
   "execution_count": 13,
   "id": "a002f172",
   "metadata": {},
   "outputs": [
    {
     "name": "stdout",
     "output_type": "stream",
     "text": [
      "Its an scalene\n"
     ]
    }
   ],
   "source": [
    "if a==b==c:\n",
    "    print(\"Its an equilateral\")\n",
    "elif a==b!=c or a==c!=b or b==c!=a:\n",
    "    print(\"Its an isoceles\")\n",
    "else:\n",
    "    print(\"Its an scalene\")"
   ]
  },
  {
   "cell_type": "code",
   "execution_count": null,
   "id": "46efaf27",
   "metadata": {},
   "outputs": [],
   "source": [
    "# C.Question 1: Print Even Numbers\n",
    "Write a program that prints all even numbers between 1 and 20.\n"
   ]
  },
  {
   "cell_type": "code",
   "execution_count": 10,
   "id": "67ac3b9e",
   "metadata": {},
   "outputs": [
    {
     "name": "stdout",
     "output_type": "stream",
     "text": [
      "1\n",
      "3\n",
      "5\n",
      "7\n",
      "9\n",
      "11\n",
      "13\n",
      "15\n",
      "17\n",
      "19\n"
     ]
    }
   ],
   "source": [
    "for i in range(1,21):\n",
    "    if i%2!=0:\n",
    "        print(i)\n",
    "    "
   ]
  },
  {
   "cell_type": "code",
   "execution_count": null,
   "id": "bbaeed72",
   "metadata": {},
   "outputs": [],
   "source": [
    "# C.Question 2: Calculate Factorial\n",
    "Write a program that calculates the factorial of a given positive integer.\n"
   ]
  },
  {
   "cell_type": "code",
   "execution_count": 21,
   "id": "d39e80a5",
   "metadata": {},
   "outputs": [
    {
     "name": "stdout",
     "output_type": "stream",
     "text": [
      "13\n"
     ]
    }
   ],
   "source": [
    "num=int(input())"
   ]
  },
  {
   "cell_type": "code",
   "execution_count": 22,
   "id": "6a4e27ff",
   "metadata": {},
   "outputs": [
    {
     "name": "stdout",
     "output_type": "stream",
     "text": [
      "1\n",
      "13\n"
     ]
    }
   ],
   "source": [
    "if num<=0:\n",
    "    print(\"This is not a valid number\")\n",
    "for i in range (1,num+1):\n",
    "    if num%i==0:\n",
    "    \n",
    "        print(i)\n",
    "\n",
    "    \n"
   ]
  },
  {
   "cell_type": "code",
   "execution_count": null,
   "id": "699d0a5f",
   "metadata": {},
   "outputs": [],
   "source": [
    "# C.Question 3: Print Multiplication Table\n",
    "Write a program that takes an integer as input and prints its multiplication table up to 10.\n"
   ]
  },
  {
   "cell_type": "code",
   "execution_count": 26,
   "id": "5de7a57e",
   "metadata": {},
   "outputs": [
    {
     "name": "stdout",
     "output_type": "stream",
     "text": [
      "5\n"
     ]
    }
   ],
   "source": [
    "num=int(input())"
   ]
  },
  {
   "cell_type": "code",
   "execution_count": 27,
   "id": "9f8a3901",
   "metadata": {},
   "outputs": [
    {
     "name": "stdout",
     "output_type": "stream",
     "text": [
      "5 X 1 = 5\n",
      "5 X 2 = 10\n",
      "5 X 3 = 15\n",
      "5 X 4 = 20\n",
      "5 X 5 = 25\n",
      "5 X 6 = 30\n",
      "5 X 7 = 35\n",
      "5 X 8 = 40\n",
      "5 X 9 = 45\n",
      "5 X 10 = 50\n"
     ]
    }
   ],
   "source": [
    "for i in range (1, 11):\n",
    "    print(num, 'X', i, \"=\", num*i)"
   ]
  },
  {
   "cell_type": "code",
   "execution_count": null,
   "id": "4c60a609",
   "metadata": {},
   "outputs": [],
   "source": [
    "# C.Question 4: Calculate Sum of Digits\n",
    "Write a program that calculates the sum of the digits of a given number\n"
   ]
  },
  {
   "cell_type": "code",
   "execution_count": 12,
   "id": "af8af7c8",
   "metadata": {},
   "outputs": [
    {
     "name": "stdout",
     "output_type": "stream",
     "text": [
      "123\n"
     ]
    }
   ],
   "source": [
    "num=int(input())\n"
   ]
  },
  {
   "cell_type": "code",
   "execution_count": 13,
   "id": "d9351747",
   "metadata": {},
   "outputs": [
    {
     "name": "stdout",
     "output_type": "stream",
     "text": [
      "6\n"
     ]
    }
   ],
   "source": [
    "sum=0\n",
    "while num>0:\n",
    "    digit=num%10\n",
    "    \n",
    "    sum=sum+digit\n",
    "    num=num//10\n",
    "print(sum)\n"
   ]
  },
  {
   "cell_type": "code",
   "execution_count": 48,
   "id": "e2a595e7",
   "metadata": {},
   "outputs": [
    {
     "name": "stdout",
     "output_type": "stream",
     "text": [
      "15\n"
     ]
    }
   ],
   "source": [
    "sum=0\n",
    "for i in range (1,num+1):\n",
    "    sum+=i\n",
    "print(sum)\n",
    "        \n",
    "    "
   ]
  },
  {
   "cell_type": "code",
   "execution_count": null,
   "id": "9139267a",
   "metadata": {},
   "outputs": [],
   "source": [
    "Question 6: Calculate Fibonacci Series\n",
    "Write a program that generates the Fibonacci series up to a given number of terms.\n"
   ]
  },
  {
   "cell_type": "code",
   "execution_count": 25,
   "id": "543539bb",
   "metadata": {},
   "outputs": [
    {
     "name": "stdout",
     "output_type": "stream",
     "text": [
      "5\n"
     ]
    }
   ],
   "source": [
    "num=int(input())"
   ]
  },
  {
   "cell_type": "code",
   "execution_count": 37,
   "id": "7cbb1bb4",
   "metadata": {},
   "outputs": [
    {
     "ename": "SyntaxError",
     "evalue": "invalid syntax (2499803758.py, line 2)",
     "output_type": "error",
     "traceback": [
      "\u001b[1;36m  Cell \u001b[1;32mIn[37], line 2\u001b[1;36m\u001b[0m\n\u001b[1;33m    if i+=n:\u001b[0m\n\u001b[1;37m        ^\u001b[0m\n\u001b[1;31mSyntaxError\u001b[0m\u001b[1;31m:\u001b[0m invalid syntax\n"
     ]
    }
   ],
   "source": [
    "for i in range (1,num+1):\n",
    "    if i+=n:\n",
    "    print(i)"
   ]
  },
  {
   "cell_type": "code",
   "execution_count": null,
   "id": "9a01c654",
   "metadata": {},
   "outputs": [],
   "source": [
    "Question 2: Hollow Square Pattern\n",
    "Write a program to print a hollow square pattern of asterisks (*) with a side length of 5.\n",
    " *****\n",
    "*   *\n",
    "*   *\n",
    "*   *\n",
    "*****\n",
    "Question 3: Right Triangle Number Pattern\n",
    "Write a program to print a right triangle number pattern.1\n",
    "12\n",
    "123\n",
    "1234\n",
    "12345"
   ]
  },
  {
   "cell_type": "code",
   "execution_count": null,
   "id": "5a54435d",
   "metadata": {},
   "outputs": [],
   "source": []
  }
 ],
 "metadata": {
  "kernelspec": {
   "display_name": "Python 3 (ipykernel)",
   "language": "python",
   "name": "python3"
  },
  "language_info": {
   "codemirror_mode": {
    "name": "ipython",
    "version": 3
   },
   "file_extension": ".py",
   "mimetype": "text/x-python",
   "name": "python",
   "nbconvert_exporter": "python",
   "pygments_lexer": "ipython3",
   "version": "3.11.3"
  }
 },
 "nbformat": 4,
 "nbformat_minor": 5
}
